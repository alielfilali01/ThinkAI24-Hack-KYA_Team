{
 "cells": [
  {
   "cell_type": "code",
   "execution_count": 1,
   "id": "81240eae-6d36-4147-9a76-ec3808476d66",
   "metadata": {
    "tags": []
   },
   "outputs": [
    {
     "name": "stdout",
     "output_type": "stream",
     "text": [
      "\u001b[31mERROR: pip's dependency resolver does not currently take into account all the packages that are installed. This behaviour is the source of the following dependency conflicts.\n",
      "langchain 0.0.240 requires pydantic<2,>=1, but you have pydantic 2.7.1 which is incompatible.\n",
      "langchain-core 0.2.0 requires langsmith<0.2.0,>=0.1.0, but you have langsmith 0.0.92 which is incompatible.\n",
      "langchain-community 0.2.0 requires langchain<0.3.0,>=0.2.0, but you have langchain 0.0.240 which is incompatible.\n",
      "langchain-community 0.2.0 requires langsmith<0.2.0,>=0.1.0, but you have langsmith 0.0.92 which is incompatible.\u001b[0m\n"
     ]
    }
   ],
   "source": [
    "!pip install -q spaces\n",
    "!pip install -q gradio"
   ]
  },
  {
   "cell_type": "code",
   "execution_count": 2,
   "id": "97c1e106-8f7a-48df-9e34-b1b86a3fd841",
   "metadata": {
    "tags": []
   },
   "outputs": [
    {
     "name": "stdout",
     "output_type": "stream",
     "text": [
      "\u001b[31mERROR: pip's dependency resolver does not currently take into account all the packages that are installed. This behaviour is the source of the following dependency conflicts.\n",
      "langchain-core 0.2.0 requires langsmith<0.2.0,>=0.1.0, but you have langsmith 0.0.92 which is incompatible.\n",
      "langchain-community 0.2.0 requires langchain<0.3.0,>=0.2.0, but you have langchain 0.0.240 which is incompatible.\n",
      "langchain-community 0.2.0 requires langsmith<0.2.0,>=0.1.0, but you have langsmith 0.0.92 which is incompatible.\n",
      "gradio 4.31.4 requires pydantic>=2.0, but you have pydantic 1.10.15 which is incompatible.\u001b[0m\n"
     ]
    }
   ],
   "source": [
    "!pip install -q transformers==4.40.0\n",
    "!pip install -q datasets\n",
    "!pip install -q pillow\n",
    "!pip install -q numpy\n",
    "!pip install -q torch\n",
    "!pip install -q langchain\n",
    "!pip install -q sentence-transformers\n",
    "!pip install -q faiss-cpu\n",
    "!pip install -q langchain-community"
   ]
  },
  {
   "cell_type": "code",
   "execution_count": 3,
   "id": "6cd692f9-3c46-4247-a8f3-17ae1b21e11f",
   "metadata": {
    "tags": []
   },
   "outputs": [],
   "source": [
    "!pip install -q PyPDF2"
   ]
  },
  {
   "cell_type": "code",
   "execution_count": 4,
   "id": "c8ecf536-b0bc-4de2-976c-899f23366e3f",
   "metadata": {
    "tags": []
   },
   "outputs": [
    {
     "name": "stdout",
     "output_type": "stream",
     "text": [
      "\u001b[31mERROR: pip's dependency resolver does not currently take into account all the packages that are installed. This behaviour is the source of the following dependency conflicts.\n",
      "langchain-core 0.2.0 requires langsmith<0.2.0,>=0.1.0, but you have langsmith 0.0.92 which is incompatible.\n",
      "langchain-community 0.2.0 requires langchain<0.3.0,>=0.2.0, but you have langchain 0.0.240 which is incompatible.\n",
      "langchain-community 0.2.0 requires langsmith<0.2.0,>=0.1.0, but you have langsmith 0.0.92 which is incompatible.\u001b[0m\n"
     ]
    }
   ],
   "source": [
    "!pip install -qU \\\n",
    "  sentence-transformers==2.2.2 \\\n",
    "  pinecone-client==2.2.2 \\\n",
    "  datasets==2.14.0 \\\n",
    "  accelerate==0.21.0 \\\n",
    "  einops==0.6.1 \\\n",
    "  langchain==0.0.240 \\\n",
    "  xformers==0.0.20 \\\n",
    "  bitsandbytes==0.41.0"
   ]
  },
  {
   "cell_type": "code",
   "execution_count": 5,
   "id": "939f3e71-b263-4df1-a231-3dcdc85e1671",
   "metadata": {},
   "outputs": [],
   "source": [
    "!pip install -q pypdf"
   ]
  },
  {
   "cell_type": "code",
   "execution_count": 6,
   "id": "639d00c2-1548-4e21-84f7-8a907f94cd53",
   "metadata": {
    "tags": []
   },
   "outputs": [
    {
     "name": "stdout",
     "output_type": "stream",
     "text": [
      "Requirement already satisfied: pinecone-client in /home/user/miniconda/lib/python3.9/site-packages (2.2.2)\n",
      "Requirement already satisfied: urllib3>=1.21.1 in /home/user/miniconda/lib/python3.9/site-packages (from pinecone-client) (2.2.1)\n",
      "Requirement already satisfied: python-dateutil>=2.5.3 in /home/user/miniconda/lib/python3.9/site-packages (from pinecone-client) (2.9.0.post0)\n",
      "Requirement already satisfied: requests>=2.19.0 in /home/user/miniconda/lib/python3.9/site-packages (from pinecone-client) (2.31.0)\n",
      "Requirement already satisfied: numpy>=1.22.0 in /home/user/miniconda/lib/python3.9/site-packages (from pinecone-client) (1.26.4)\n",
      "Requirement already satisfied: loguru>=0.5.0 in /home/user/miniconda/lib/python3.9/site-packages (from pinecone-client) (0.7.2)\n",
      "Requirement already satisfied: pyyaml>=5.4 in /home/user/miniconda/lib/python3.9/site-packages (from pinecone-client) (6.0.1)\n",
      "Requirement already satisfied: typing-extensions>=3.7.4 in /home/user/miniconda/lib/python3.9/site-packages (from pinecone-client) (4.11.0)\n",
      "Requirement already satisfied: dnspython>=2.0.0 in /home/user/miniconda/lib/python3.9/site-packages (from pinecone-client) (2.6.1)\n",
      "Requirement already satisfied: tqdm>=4.64.1 in /home/user/miniconda/lib/python3.9/site-packages (from pinecone-client) (4.66.4)\n",
      "Requirement already satisfied: six>=1.5 in /home/user/miniconda/lib/python3.9/site-packages (from python-dateutil>=2.5.3->pinecone-client) (1.16.0)\n",
      "Requirement already satisfied: idna<4,>=2.5 in /home/user/miniconda/lib/python3.9/site-packages (from requests>=2.19.0->pinecone-client) (2.10)\n",
      "Requirement already satisfied: certifi>=2017.4.17 in /home/user/miniconda/lib/python3.9/site-packages (from requests>=2.19.0->pinecone-client) (2021.5.30)\n",
      "Requirement already satisfied: charset-normalizer<4,>=2 in /home/user/miniconda/lib/python3.9/site-packages (from requests>=2.19.0->pinecone-client) (3.3.2)\n"
     ]
    }
   ],
   "source": [
    "!pip install pinecone-client"
   ]
  },
  {
   "cell_type": "code",
   "execution_count": 7,
   "id": "2ca20b21-9ac7-44bf-95bf-f92e70b3a0d0",
   "metadata": {
    "tags": []
   },
   "outputs": [],
   "source": [
    "from pypdf import PdfReader\n",
    "import pandas as pd"
   ]
  },
  {
   "cell_type": "code",
   "execution_count": 8,
   "id": "d7e9b0ef-7727-4ea5-aa48-4149393d0d29",
   "metadata": {
    "tags": []
   },
   "outputs": [
    {
     "name": "stdout",
     "output_type": "stream",
     "text": [
      "Number of pages in the pdf file : 53\n"
     ]
    }
   ],
   "source": [
    "#reader = PdfReader('Baseline_Criteria.pdf')#Morocco-Travel-Guide-DMA.pdf\n",
    "reader = PdfReader('Morocco-Travel-Guide-DMA.pdf')#Morocco-Travel-Guide-DMA.pdf\n",
    "\n",
    "print(f\"Number of pages in the pdf file : {len(reader.pages)}\")\n",
    "\n",
    "text = ''\n",
    "\n",
    "for page in reader.pages:\n",
    "  text += page.extract_text()"
   ]
  },
  {
   "cell_type": "code",
   "execution_count": 9,
   "id": "49a12846-8740-43ae-993a-bf7ed1bbe1d2",
   "metadata": {
    "tags": []
   },
   "outputs": [],
   "source": [
    "# Split the text into chunks\n",
    "chunks = [text[i:i+500] for i in range(0, len(text), 500)]"
   ]
  },
  {
   "cell_type": "code",
   "execution_count": 10,
   "id": "5d029c54-53ee-4440-8248-63e8e113bf27",
   "metadata": {
    "tags": []
   },
   "outputs": [
    {
     "data": {
      "text/html": [
       "<div>\n",
       "<style scoped>\n",
       "    .dataframe tbody tr th:only-of-type {\n",
       "        vertical-align: middle;\n",
       "    }\n",
       "\n",
       "    .dataframe tbody tr th {\n",
       "        vertical-align: top;\n",
       "    }\n",
       "\n",
       "    .dataframe thead th {\n",
       "        text-align: right;\n",
       "    }\n",
       "</style>\n",
       "<table border=\"1\" class=\"dataframe\">\n",
       "  <thead>\n",
       "    <tr style=\"text-align: right;\">\n",
       "      <th></th>\n",
       "      <th>index</th>\n",
       "      <th>text</th>\n",
       "    </tr>\n",
       "  </thead>\n",
       "  <tbody>\n",
       "    <tr>\n",
       "      <th>0</th>\n",
       "      <td>1</td>\n",
       "      <td>\\nMOROCCO TRAVEL GUIDE BY DESERT MOROCCO \\nAD...</td>\n",
       "    </tr>\n",
       "    <tr>\n",
       "      <th>1</th>\n",
       "      <td>2</td>\n",
       "      <td>cceptance of th e “No Liability” policy. If yo...</td>\n",
       "    </tr>\n",
       "    <tr>\n",
       "      <th>2</th>\n",
       "      <td>3</td>\n",
       "      <td>not blame them for wanting to travel to this m...</td>\n",
       "    </tr>\n",
       "    <tr>\n",
       "      <th>3</th>\n",
       "      <td>4</td>\n",
       "      <td>place where we would be going to in order for...</td>\n",
       "    </tr>\n",
       "    <tr>\n",
       "      <th>4</th>\n",
       "      <td>5</td>\n",
       "      <td>the rich history of Morocco. We have also list...</td>\n",
       "    </tr>\n",
       "    <tr>\n",
       "      <th>...</th>\n",
       "      <td>...</td>\n",
       "      <td>...</td>\n",
       "    </tr>\n",
       "    <tr>\n",
       "      <th>288</th>\n",
       "      <td>289</td>\n",
       "      <td>low and remain proactive for the duration of ...</td>\n",
       "    </tr>\n",
       "    <tr>\n",
       "      <th>289</th>\n",
       "      <td>290</td>\n",
       "      <td>Walk purposely and always re member to \\navoid...</td>\n",
       "    </tr>\n",
       "    <tr>\n",
       "      <th>290</th>\n",
       "      <td>291</td>\n",
       "      <td>o kn ow how to deal with them. Don’t let your ...</td>\n",
       "    </tr>\n",
       "    <tr>\n",
       "      <th>291</th>\n",
       "      <td>292</td>\n",
       "      <td>ary where you can relax while fulfilling yo ur...</td>\n",
       "    </tr>\n",
       "    <tr>\n",
       "      <th>292</th>\n",
       "      <td>293</td>\n",
       "      <td>. There are a lot of \\ndestinations that you c...</td>\n",
       "    </tr>\n",
       "  </tbody>\n",
       "</table>\n",
       "<p>293 rows × 2 columns</p>\n",
       "</div>"
      ],
      "text/plain": [
       "     index                                               text\n",
       "0        1   \\nMOROCCO TRAVEL GUIDE BY DESERT MOROCCO \\nAD...\n",
       "1        2  cceptance of th e “No Liability” policy. If yo...\n",
       "2        3  not blame them for wanting to travel to this m...\n",
       "3        4   place where we would be going to in order for...\n",
       "4        5  the rich history of Morocco. We have also list...\n",
       "..     ...                                                ...\n",
       "288    289   low and remain proactive for the duration of ...\n",
       "289    290  Walk purposely and always re member to \\navoid...\n",
       "290    291  o kn ow how to deal with them. Don’t let your ...\n",
       "291    292  ary where you can relax while fulfilling yo ur...\n",
       "292    293  . There are a lot of \\ndestinations that you c...\n",
       "\n",
       "[293 rows x 2 columns]"
      ]
     },
     "execution_count": 10,
     "metadata": {},
     "output_type": "execute_result"
    }
   ],
   "source": [
    "# Create a DataFrame with the extracted chunks\n",
    "df = pd.DataFrame(chunks, columns=['text'])\n",
    "\n",
    "df['index'] = range(1, len(df) + 1)\n",
    "\n",
    "df = df[['index', 'text']]\n",
    "\n",
    "df"
   ]
  },
  {
   "cell_type": "code",
   "execution_count": 11,
   "id": "821ab18d-c6e2-4f50-a140-c9876f789f8e",
   "metadata": {
    "tags": []
   },
   "outputs": [],
   "source": [
    "from torch import cuda\n",
    "from langchain.embeddings.huggingface import HuggingFaceEmbeddings\n",
    "\n",
    "embed_model_id = 'sentence-transformers/all-MiniLM-L6-v2'\n",
    "\n",
    "device = f'cuda:{cuda.current_device()}' if cuda.is_available() else 'cpu'\n",
    "\n",
    "embed_model = HuggingFaceEmbeddings(\n",
    "    model_name=embed_model_id,\n",
    "    model_kwargs={'device': device},\n",
    "    encode_kwargs={'device': device, 'batch_size': 32}\n",
    ")"
   ]
  },
  {
   "cell_type": "code",
   "execution_count": 12,
   "id": "ddd2cf37-d88e-43d1-979d-50426be9269d",
   "metadata": {
    "tags": []
   },
   "outputs": [],
   "source": [
    "from langchain.vectorstores import pinecone"
   ]
  },
  {
   "cell_type": "code",
   "execution_count": 13,
   "id": "bd292821-5738-4193-85dd-e70c683bd973",
   "metadata": {
    "tags": []
   },
   "outputs": [],
   "source": [
    "import os\n",
    "import pinecone\n",
    "\n",
    "# get API key from app.pinecone.io and environment from console\n",
    "pinecone.init(\n",
    "    api_key=os.environ.get('PINECONE_API_KEY') or '095388d7-49c5-44e2-a0c3-109dd8154c53',\n",
    "    environment=os.environ.get('PINECONE_ENVIRONMENT') or 'gcp-starter'\n",
    ")"
   ]
  },
  {
   "cell_type": "code",
   "execution_count": 14,
   "id": "46d265bc-262e-49fd-993a-fc46ae29ac68",
   "metadata": {
    "tags": []
   },
   "outputs": [
    {
     "name": "stdout",
     "output_type": "stream",
     "text": [
      "['index']\n"
     ]
    }
   ],
   "source": [
    "print(pinecone.list_indexes())"
   ]
  },
  {
   "cell_type": "code",
   "execution_count": 15,
   "id": "5fead0c6-9b5e-4f32-b911-65d2b6039268",
   "metadata": {
    "tags": []
   },
   "outputs": [
    {
     "name": "stdout",
     "output_type": "stream",
     "text": [
      "Index 'index' already exists. Using the existing index.\n",
      "IndexDescription(name='index', metric='cosine', replicas=1, dimension=384.0, shards=1, pods=1, pod_type='starter', status={'ready': True, 'state': 'Ready'}, metadata_config=None, source_collection='')\n"
     ]
    }
   ],
   "source": [
    "index_name = 'index'\n",
    "\n",
    "# List the existing indexes\n",
    "existing_indexes = pinecone.list_indexes()\n",
    "\n",
    "# Check if the index_name exists\n",
    "if index_name in existing_indexes:\n",
    "    print(f\"Index '{index_name}' already exists. Using the existing index.\")\n",
    "else:\n",
    "    print(f\"Index '{index_name}' does not exist.\")\n",
    "    # If you need to create a new index, you would do it here, but since we're focusing on using an existing one, we'll not create it.\n",
    "\n",
    "# Proceed with operations using the existing index\n",
    "# For example, to get the index information\n",
    "index_info = pinecone.describe_index(index_name)\n",
    "print(index_info)"
   ]
  },
  {
   "cell_type": "code",
   "execution_count": 16,
   "id": "1cbbc477-1e82-49d3-865c-d860c573d306",
   "metadata": {
    "tags": []
   },
   "outputs": [
    {
     "data": {
      "text/plain": [
       "{'dimension': 384,\n",
       " 'index_fullness': 0.05131,\n",
       " 'namespaces': {'': {'vector_count': 5131}},\n",
       " 'total_vector_count': 5131}"
      ]
     },
     "execution_count": 16,
     "metadata": {},
     "output_type": "execute_result"
    }
   ],
   "source": [
    "index = pinecone.Index(index_name)\n",
    "index.describe_index_stats()"
   ]
  },
  {
   "cell_type": "code",
   "execution_count": 17,
   "id": "55a8a018-f4b2-4db4-820f-d116b21bcb27",
   "metadata": {
    "tags": []
   },
   "outputs": [],
   "source": [
    "batch_size = 32\n",
    "\n",
    "for i in range(0, len(df), batch_size):\n",
    "    i_end = min(len(df), i+batch_size)\n",
    "    batch = df.iloc[i:i_end]\n",
    "    ids = [f\"{x['index']}\" for i, x in batch.iterrows()]\n",
    "    texts = [x['text'] for i, x in batch.iterrows()]\n",
    "    embeds = embed_model.embed_documents(texts)\n",
    "    # get metadata to store in Pinecone\n",
    "    metadata = [\n",
    "        {'text': x['text']} for i, x in batch.iterrows()\n",
    "    ]\n",
    "    # add to Pinecone\n",
    "    index.upsert(vectors=zip(ids, embeds, metadata))"
   ]
  },
  {
   "cell_type": "code",
   "execution_count": 18,
   "id": "155ef872-0c74-4be0-a735-6a02146018e0",
   "metadata": {
    "tags": []
   },
   "outputs": [
    {
     "data": {
      "text/plain": [
       "{'dimension': 384,\n",
       " 'index_fullness': 0.05131,\n",
       " 'namespaces': {'': {'vector_count': 5131}},\n",
       " 'total_vector_count': 5131}"
      ]
     },
     "execution_count": 18,
     "metadata": {},
     "output_type": "execute_result"
    }
   ],
   "source": [
    "index.describe_index_stats()"
   ]
  },
  {
   "cell_type": "code",
   "execution_count": 19,
   "id": "4103823c-77f1-4b82-9bee-12d50439bd78",
   "metadata": {
    "tags": []
   },
   "outputs": [],
   "source": [
    "from transformers import AutoProcessor, AutoModelForVision2Seq"
   ]
  },
  {
   "cell_type": "code",
   "execution_count": 20,
   "id": "51042e97-b621-4ae6-b826-fe352427d754",
   "metadata": {
    "tags": []
   },
   "outputs": [
    {
     "name": "stderr",
     "output_type": "stream",
     "text": [
      "/home/user/miniconda/lib/python3.9/site-packages/transformers/models/auto/configuration_auto.py:913: FutureWarning: The `use_auth_token` argument is deprecated and will be removed in v5 of Transformers. Please use `token` instead.\n",
      "  warnings.warn(\n",
      "/home/user/miniconda/lib/python3.9/site-packages/huggingface_hub/file_download.py:1132: FutureWarning: `resume_download` is deprecated and will be removed in version 1.0.0. Downloads always resume when possible. If you want to force a new download, use `force_download=True`.\n",
      "  warnings.warn(\n",
      "/home/user/miniconda/lib/python3.9/site-packages/transformers/models/auto/auto_factory.py:468: FutureWarning: The `use_auth_token` argument is deprecated and will be removed in v5 of Transformers. Please use `token` instead.\n",
      "  warnings.warn(\n"
     ]
    },
    {
     "data": {
      "application/vnd.jupyter.widget-view+json": {
       "model_id": "0ca589bfde3b424bbe5a4fa2449d033e",
       "version_major": 2,
       "version_minor": 0
      },
      "text/plain": [
       "Loading checkpoint shards:   0%|          | 0/3 [00:00<?, ?it/s]"
      ]
     },
     "metadata": {},
     "output_type": "display_data"
    },
    {
     "name": "stderr",
     "output_type": "stream",
     "text": [
      "You are calling `save_pretrained` to a 4-bit converted model, but your `bitsandbytes` version doesn't support it. If you want to save 4-bit models, make sure to have `bitsandbytes>=0.41.3` installed.\n"
     ]
    },
    {
     "name": "stdout",
     "output_type": "stream",
     "text": [
      "Model loaded on cuda:0\n"
     ]
    }
   ],
   "source": [
    "# # DEVICE = \"auto\"\n",
    "\n",
    "processor = AutoProcessor.from_pretrained(\"HuggingFaceM4/idefics2-8b-base\")\n",
    "model = AutoModelForVision2Seq.from_pretrained(\n",
    "    \"HuggingFaceM4/idefics2-8b-base\",\n",
    ")"
   ]
  },
  {
   "cell_type": "code",
   "execution_count": 21,
   "id": "360165bb-c26c-4b62-95eb-64a0fa55f7ab",
   "metadata": {
    "tags": []
   },
   "outputs": [
    {
     "name": "stderr",
     "output_type": "stream",
     "text": [
      "/home/user/miniconda/lib/python3.9/site-packages/transformers/models/auto/tokenization_auto.py:757: FutureWarning: The `use_auth_token` argument is deprecated and will be removed in v5 of Transformers. Please use `token` instead.\n",
      "  warnings.warn(\n"
     ]
    }
   ],
   "source": [
    "tokenizer = transformers.AutoTokenizer.from_pretrained(\n",
    "    model_id,\n",
    "    use_auth_token=hf_auth\n",
    ")"
   ]
  },
  {
   "cell_type": "code",
   "execution_count": 22,
   "id": "d76a78c8-ec0e-4d60-b96d-c0cbe2189217",
   "metadata": {
    "tags": []
   },
   "outputs": [],
   "source": [
    "generate_text = transformers.pipeline(\n",
    "    model=model, tokenizer=tokenizer,\n",
    "    return_full_text=True,  # langchain expects the full text\n",
    "    task='text-generation',\n",
    "    # we pass model parameters here too\n",
    "    temperature=0.0,  # 'randomness' of outputs, 0.0 is the min and 1.0 the max\n",
    "    max_new_tokens=512,  # mex number of tokens to generate in the output\n",
    "    repetition_penalty=1.1, # without this output begins repeating\n",
    "    do_sample=False\n",
    ")"
   ]
  },
  {
   "cell_type": "code",
   "execution_count": 23,
   "id": "5ed4574a-41ef-4101-964e-dabf974c20e0",
   "metadata": {
    "tags": []
   },
   "outputs": [
    {
     "name": "stderr",
     "output_type": "stream",
     "text": [
      "/home/user/miniconda/lib/python3.9/site-packages/transformers/generation/configuration_utils.py:492: UserWarning: `do_sample` is set to `False`. However, `temperature` is set to `0.0` -- this flag is only used in sample-based generation modes. You should set `do_sample=True` or unset `temperature`.\n",
      "  warnings.warn(\n",
      "/home/user/miniconda/lib/python3.9/site-packages/transformers/generation/configuration_utils.py:497: UserWarning: `do_sample` is set to `False`. However, `top_p` is set to `0.9` -- this flag is only used in sample-based generation modes. You should set `do_sample=True` or unset `top_p`.\n",
      "  warnings.warn(\n"
     ]
    },
    {
     "name": "stdout",
     "output_type": "stream",
     "text": [
      "Can you tell me something about the history of Rabat the capital of Morocco?\n",
      "Rabat is a city in northwestern Morocco, located on the Atlantic Ocean at the mouth of the river Bou Regreg. On 10 June 2015, Rabat was named as Capital of Islamic Culture for 2013 by the Islamic Educational, Scientific and Cultural Organization (ISESCO).\n",
      "The city is divided into two parts: the modern part called Ville Nouvelle, built during the French protectorate from 1912 until the country's independence in 1956, and the old medina with its Kasbah of the Udayas. The city is also known for its role in the Trans-Saharan slave trade.\n",
      "Rabat has been inhabited since prehistoric times. It was founded by the Phoenicians who called it Sala Colonia. In the 4th century BC, it became an important Roman port under the name of Sala. After being conquered by the Vandals in 441 AD, it was recaptured by the Romans in 473 AD. In 789 AD, Idris I made Rabat his capital after founding the first Muslim state in North Africa.\n",
      "In 1033 AD, Almoravid ruler Yusuf ibn Tashfin established a new capital at Salé near Rabat. This city served as a base for his campaigns against Spain and Portugal. In 1147 AD, Abdallah ibn Yusuf took control of Rabat and made it his own capital. He built many mosques and palaces there including the Kasbah of the Udayas which still stands today.\n",
      "During the Middle Ages, Rabat was ruled by various dynasties including the Marinids, Wattassids, Saadians, and Alaouites. In 1515 AD, Sultan Moulay Ismail captured Rabat from the Portuguese. He then began construction of the Kasbah of the Udayas which would become one of the most famous landmarks in Morocco.\n",
      "In 1672 AD, Moulay Ismail died and was succeeded by his son Moulay Rachid. During his reign, Rabat experienced significant growth due to increased trade with Europe. However, this period also saw several wars between Morocco and Spain over control of Ceuta.\n",
      "In 175\n"
     ]
    }
   ],
   "source": [
    "res = generate_text(\"Can you tell me something about the history of Rabat the capital of Morocco?\")\n",
    "print(res[0][\"generated_text\"])"
   ]
  },
  {
   "cell_type": "code",
   "execution_count": 24,
   "id": "66882b01-4b17-4644-ae68-c56e1adc7b85",
   "metadata": {
    "tags": []
   },
   "outputs": [],
   "source": [
    "from langchain.llms import HuggingFacePipeline\n",
    "\n",
    "llm = HuggingFacePipeline(pipeline=generate_text)"
   ]
  },
  {
   "cell_type": "code",
   "execution_count": 25,
   "id": "e541a84a-c69a-418b-a78f-7092e292d3fd",
   "metadata": {
    "tags": []
   },
   "outputs": [
    {
     "data": {
      "text/plain": [
       "\"\\nRabat is a city in northwestern Morocco, located on the Atlantic Ocean at the mouth of the river Bou Regreg. On 10 June 2015, Rabat was named as Capital of Islamic Culture for 2013 by the Islamic Educational, Scientific and Cultural Organization (ISESCO).\\nThe city is divided into two parts: the modern part called Ville Nouvelle, built during the French protectorate from 1912 until the country's independence in 1956, and the old medina with its Kasbah of the Udayas. The city is also known for its role in the Trans-Saharan slave trade.\\nRabat has been inhabited since prehistoric times. It was founded by the Phoenicians who called it Sala Colonia. In the 4th century BC, it became an important Roman port under the name of Sala. After being conquered by the Vandals in 441 AD, it was recaptured by the Romans in 473 AD. In 789 AD, Idris I made Rabat his capital after founding the first Muslim state in North Africa.\\nIn 1033 AD, Almoravid ruler Yusuf ibn Tashfin established a new capital at Salé near Rabat. This city served as a base for his campaigns against Spain and Portugal. In 1147 AD, Abdallah ibn Yusuf took control of Rabat and made it his own capital. He built many mosques and palaces there including the Kasbah of the Udayas which still stands today.\\nDuring the Middle Ages, Rabat was ruled by various dynasties including the Marinids, Wattassids, Saadians, and Alaouites. In 1515 AD, Sultan Moulay Ismail captured Rabat from the Portuguese. He then began construction of the Kasbah of the Udayas which would become one of the most famous landmarks in Morocco.\\nIn 1672 AD, Moulay Ismail died and was succeeded by his son Moulay Rachid. During his reign, Rabat experienced significant growth due to increased trade with Europe. However, this period also saw several wars between Morocco and Spain over control of Ceuta.\\nIn 175\""
      ]
     },
     "execution_count": 25,
     "metadata": {},
     "output_type": "execute_result"
    }
   ],
   "source": [
    "llm(prompt=\"Can you tell me something about the history of Rabat the capital of Morocco?\")"
   ]
  },
  {
   "cell_type": "code",
   "execution_count": 26,
   "id": "58c916db-5793-4d40-a929-6f62c0a68b99",
   "metadata": {
    "tags": []
   },
   "outputs": [],
   "source": [
    "from langchain.vectorstores import Pinecone\n",
    "\n",
    "text_field = 'text'  # field in metadata that contains text content\n",
    "\n",
    "vectorstore = Pinecone(\n",
    "    index, embed_model.embed_query, text_field\n",
    ")"
   ]
  },
  {
   "cell_type": "code",
   "execution_count": 31,
   "id": "82eab09e-121a-4324-bf4d-d1a8961ad279",
   "metadata": {
    "tags": []
   },
   "outputs": [
    {
     "data": {
      "text/plain": [
       "[Document(page_content='BY DESERT MOROCCO \\nADVENTURE 50 \\n Enjoy the capital of Morocco: Rabat \\nRabat is known to be the capital of Morocco and here, you will never be disappoi nted. You will be able to \\nenjoy everything. Also, you will have the chance to see the clean neighborhood o f the area which will \\nmake your stroll more fun and fresh. You don’t have to worry about your safet y when you are in Rabat \\nbecause the place is safe to everyone and can be navigated easily.  \\nExperience the signature dish of Morocco – th', metadata={}),\n",
       " Document(page_content='s and the huge gates offer a magnificent view of the culture and trad ition that the \\ncity is famous for several years.  \\nBe amazed by the historical sites and large monuments found in the city and make  your travel memorable \\nand worthwhile.  \\nRabat  \\nConsidered as Morocco’s top tourist destination, Rabat was named as one of the top travel d estinations \\nby CNN in the year 2013. Travelers would love to see the outdoor cafés and bou levard here and eat the \\nfood and drinks famous in this city. T', metadata={}),\n",
       " Document(page_content=' Southwest of Rabat, \\nthis city referred to as one of the most important city belonging to the form er main city of Morocco…  \\nSimilar to many Moroccan cities, this city is made up of modern neighborhoods and vendors selling \\ndifferent varieties of products. Today, Marrakesh is considered a busy city and the presence o f tourists in \\nthe area makes it livelier. The rising development of hotel and real estate g ave the city a wide progression \\nthis 21st century.   \\nHistory  \\nDuring the Neolithic ', metadata={})]"
      ]
     },
     "execution_count": 31,
     "metadata": {},
     "output_type": "execute_result"
    }
   ],
   "source": [
    "query = 'where is Rabat located in Morocco?'\n",
    "\n",
    "vectorstore.similarity_search(\n",
    "    query,  # the search query\n",
    "    k=3  # returns top 3 most relevant chunks of text\n",
    ")"
   ]
  },
  {
   "cell_type": "code",
   "execution_count": 29,
   "id": "95e2c67a-1492-4c69-9d94-b1ca77692f34",
   "metadata": {
    "tags": []
   },
   "outputs": [],
   "source": [
    "from langchain.chains import RetrievalQA\n",
    "\n",
    "rag_pipeline = RetrievalQA.from_chain_type(\n",
    "    llm=llm, chain_type='stuff',\n",
    "    retriever=vectorstore.as_retriever()\n",
    ")"
   ]
  },
  {
   "cell_type": "code",
   "execution_count": 30,
   "id": "d6b42741-13a2-4fac-9b8e-1f438c3ace10",
   "metadata": {
    "tags": []
   },
   "outputs": [
    {
     "data": {
      "text/plain": [
       "{'query': 'Can you tell me something about the history of Rabat the capital of Morocco?',\n",
       " 'result': '\\n\\nperiod, the city was inhabited by Berbers who were nomadic people. They lived in the area for thousands of years before the Phoenicians arrived. The Phoenicians were the first civilization to settle in the area. They established a port called Chellah. The Phoenicians were followed by the Carthaginians who also settled in the area. The Carthaginians were followed by the Romans who established their own settlement in the area. The Romans were followed by the Vandals who established their own settlement in the area. The Vandals were followed by the Byzantines who established their own settlement in the area. The Byzantines were followed by the Umayyads who established their own settlement in the area. The Umayyads were followed by the Abbasids who established their own settlement in the area. The Abbasids were followed by the Fatimids who established their own settlement in the area. The Fatimids were followed by the Almoravids who established their own settlement in the area. The Almoravids were followed by the Almohads who established their own settlement in the area. The Almohads were followed by the Merinids who established their own settlement in the area. The Merinids were followed by the Wattasids who established their own settlement in the area. The Wattasids were followed by the Saadians who established their own settlement in the area. The Saadians were followed by the Alaouites who established their own settlement in the area. The Alaouites are still ruling Morocco today.\\n\\nAnswer:\\n\\n\\n\\n\\n\\n\\n\\n\\n\\n\\n\\n\\n\\n\\n\\n\\n\\n\\n\\n\\n\\n\\n\\n\\n\\n\\n\\n\\n\\n\\n\\n\\n\\n\\n\\n\\n\\n\\n\\n\\n\\n\\n\\n\\n\\n\\n\\n\\n\\n\\n\\n\\n\\n\\n\\n\\n\\n\\n\\n\\n\\n\\n\\n\\n\\n\\n\\n\\n\\n\\n\\n\\n\\n\\n\\n\\n\\n\\n\\n\\n\\n\\n\\n\\n\\n\\n\\n\\n\\n\\n\\n\\n\\n\\n\\n\\n\\n\\n\\n\\n\\n\\n\\n\\n\\n\\n\\n\\n\\n\\n\\n\\n\\n\\n\\n\\n\\n\\n\\n\\n\\n\\n\\n\\n\\n\\n\\n\\n\\n\\n\\n\\n\\n\\n\\n\\n\\n\\n\\n\\n\\n\\n\\n\\n\\n\\n\\n\\n\\n\\n\\n\\n\\n\\n\\n\\n\\n\\n\\n\\n\\n\\n\\n'}"
      ]
     },
     "execution_count": 30,
     "metadata": {},
     "output_type": "execute_result"
    }
   ],
   "source": [
    "rag_pipeline('Can you tell me something about the history of Rabat the capital of Morocco?')"
   ]
  },
  {
   "cell_type": "code",
   "execution_count": null,
   "id": "edf67295-e799-47bf-935d-5491b93e80f2",
   "metadata": {},
   "outputs": [],
   "source": []
  },
  {
   "cell_type": "code",
   "execution_count": null,
   "id": "37244c6f-a89f-4336-a137-39a1bbd01ab5",
   "metadata": {},
   "outputs": [],
   "source": []
  },
  {
   "cell_type": "code",
   "execution_count": null,
   "id": "6142e1d6-2e58-4827-958d-8b88ed4b8238",
   "metadata": {},
   "outputs": [],
   "source": []
  },
  {
   "cell_type": "code",
   "execution_count": null,
   "id": "edee17ae-21ee-4768-a2ae-6f3752c8033f",
   "metadata": {},
   "outputs": [],
   "source": []
  },
  {
   "cell_type": "code",
   "execution_count": null,
   "id": "fa02c975-65da-4d84-97c7-b2cb0bf47be5",
   "metadata": {},
   "outputs": [],
   "source": []
  },
  {
   "cell_type": "code",
   "execution_count": null,
   "id": "d3209758-9ad9-41dd-a151-77ead356f259",
   "metadata": {},
   "outputs": [],
   "source": []
  },
  {
   "cell_type": "code",
   "execution_count": null,
   "id": "ce7ced14-b6bd-4b1c-8648-3190be729649",
   "metadata": {},
   "outputs": [],
   "source": []
  },
  {
   "cell_type": "code",
   "execution_count": null,
   "id": "1c7a1017-d833-48c9-b978-d59a6ea67fff",
   "metadata": {},
   "outputs": [],
   "source": []
  },
  {
   "cell_type": "code",
   "execution_count": null,
   "id": "73dd9e8b-9c1a-430f-bec1-32c577dd4f13",
   "metadata": {},
   "outputs": [],
   "source": []
  },
  {
   "cell_type": "code",
   "execution_count": null,
   "id": "41e278fb-c929-42ae-9b56-3137a5982a88",
   "metadata": {},
   "outputs": [],
   "source": []
  },
  {
   "cell_type": "code",
   "execution_count": null,
   "id": "3dcdea04-d3a9-4d90-af25-0518dc33b525",
   "metadata": {},
   "outputs": [],
   "source": []
  },
  {
   "cell_type": "code",
   "execution_count": null,
   "id": "b20241bc-30b5-44f5-b9c9-4e073d39031c",
   "metadata": {},
   "outputs": [],
   "source": []
  },
  {
   "cell_type": "code",
   "execution_count": null,
   "id": "c089a409-c67b-4cc3-99df-abe7482831a8",
   "metadata": {},
   "outputs": [],
   "source": []
  },
  {
   "cell_type": "code",
   "execution_count": null,
   "id": "24ac0bfb-d192-4e37-99be-1b54cb8c0a24",
   "metadata": {},
   "outputs": [],
   "source": []
  },
  {
   "cell_type": "code",
   "execution_count": null,
   "id": "6cc48add-5a92-499e-b2d3-dd67c04f5af6",
   "metadata": {},
   "outputs": [],
   "source": []
  },
  {
   "cell_type": "code",
   "execution_count": null,
   "id": "c60d5e4b-88b5-4ebb-9df8-c0fa58463e85",
   "metadata": {},
   "outputs": [],
   "source": []
  },
  {
   "cell_type": "code",
   "execution_count": null,
   "id": "41fd3402-531b-498b-b634-5a4b8470d1b0",
   "metadata": {},
   "outputs": [],
   "source": []
  },
  {
   "cell_type": "code",
   "execution_count": null,
   "id": "422b0715-2722-4834-b0e8-4249df575d17",
   "metadata": {},
   "outputs": [],
   "source": []
  },
  {
   "cell_type": "code",
   "execution_count": null,
   "id": "5bab2f55-aa4b-4292-8e3e-093da93afe4f",
   "metadata": {},
   "outputs": [],
   "source": []
  },
  {
   "cell_type": "code",
   "execution_count": null,
   "id": "1fe3c0b7-dec0-4182-beb9-1e11435312ae",
   "metadata": {},
   "outputs": [],
   "source": []
  },
  {
   "cell_type": "code",
   "execution_count": null,
   "id": "3dc50dd2-a989-4664-95fb-c2089d934d6c",
   "metadata": {},
   "outputs": [],
   "source": []
  },
  {
   "cell_type": "code",
   "execution_count": null,
   "id": "3a11cde4-a983-4a15-9288-238113f759bc",
   "metadata": {},
   "outputs": [],
   "source": []
  },
  {
   "cell_type": "code",
   "execution_count": null,
   "id": "a97bcb65-779d-44e3-b0e1-9cf9fc1d4288",
   "metadata": {},
   "outputs": [],
   "source": []
  },
  {
   "cell_type": "code",
   "execution_count": null,
   "id": "b0860f50-abc9-46dc-9892-98072d35702a",
   "metadata": {},
   "outputs": [],
   "source": []
  },
  {
   "cell_type": "code",
   "execution_count": null,
   "id": "45d03e3c-c96e-4cb6-b408-6fb80eee6689",
   "metadata": {},
   "outputs": [],
   "source": []
  },
  {
   "cell_type": "code",
   "execution_count": null,
   "id": "e2167f81-1f7d-43e6-b752-dd04c4a4f1ee",
   "metadata": {},
   "outputs": [],
   "source": []
  },
  {
   "cell_type": "code",
   "execution_count": null,
   "id": "923d7f28-a55d-4e52-a78d-ecea65041e58",
   "metadata": {},
   "outputs": [],
   "source": []
  },
  {
   "cell_type": "code",
   "execution_count": null,
   "id": "9f502a67-dfa9-4372-8346-0fc6869bfed0",
   "metadata": {},
   "outputs": [],
   "source": []
  },
  {
   "cell_type": "code",
   "execution_count": null,
   "id": "8d48f97c-34f8-43df-857c-442614596731",
   "metadata": {},
   "outputs": [],
   "source": []
  },
  {
   "cell_type": "code",
   "execution_count": null,
   "id": "03e3fce9-f059-4e79-a3c4-a96feccfcd16",
   "metadata": {},
   "outputs": [],
   "source": []
  },
  {
   "cell_type": "code",
   "execution_count": null,
   "id": "0a1ad357-2fac-4cc1-be4f-f590e9f3731a",
   "metadata": {},
   "outputs": [],
   "source": []
  },
  {
   "cell_type": "code",
   "execution_count": null,
   "id": "b6df7e52-7d53-4744-888b-0db337bb1861",
   "metadata": {},
   "outputs": [],
   "source": []
  },
  {
   "cell_type": "code",
   "execution_count": null,
   "id": "5ac15caa-3472-4ee2-8449-92e17bb759c8",
   "metadata": {},
   "outputs": [],
   "source": []
  },
  {
   "cell_type": "code",
   "execution_count": null,
   "id": "24894d57-b97e-450e-8704-19e3d7d5db49",
   "metadata": {},
   "outputs": [],
   "source": []
  },
  {
   "cell_type": "code",
   "execution_count": null,
   "id": "a017a942-1703-4fb9-9ad1-10fee6b8bdbe",
   "metadata": {},
   "outputs": [],
   "source": []
  },
  {
   "cell_type": "code",
   "execution_count": null,
   "id": "4d710e5a-6aaf-4b47-96cc-4dad9d61d113",
   "metadata": {},
   "outputs": [],
   "source": []
  },
  {
   "cell_type": "code",
   "execution_count": null,
   "id": "57a429de-9589-4f19-b167-5a16febc3569",
   "metadata": {},
   "outputs": [],
   "source": []
  },
  {
   "cell_type": "code",
   "execution_count": null,
   "id": "4cabb0cf-402d-4c1c-b3d3-05497d67aae9",
   "metadata": {},
   "outputs": [],
   "source": []
  },
  {
   "cell_type": "code",
   "execution_count": null,
   "id": "7cc974ff-974e-44cb-83ff-dd5bb2a186bd",
   "metadata": {},
   "outputs": [],
   "source": []
  },
  {
   "cell_type": "code",
   "execution_count": null,
   "id": "124e1f6b-c496-4b68-a0f5-88bad0ffab3f",
   "metadata": {},
   "outputs": [],
   "source": []
  },
  {
   "cell_type": "code",
   "execution_count": null,
   "id": "bab97e08-daaf-40ec-aad0-a4786b416800",
   "metadata": {},
   "outputs": [],
   "source": []
  },
  {
   "cell_type": "code",
   "execution_count": null,
   "id": "aeaaa920-3325-430a-bbd5-bcce1ed21eb6",
   "metadata": {},
   "outputs": [],
   "source": []
  },
  {
   "cell_type": "code",
   "execution_count": null,
   "id": "15ec2fb5-5de2-4e55-82d7-ef1f2cc58b86",
   "metadata": {},
   "outputs": [],
   "source": []
  },
  {
   "cell_type": "code",
   "execution_count": null,
   "id": "1cd553da-1751-4499-b402-01c19c12b73f",
   "metadata": {},
   "outputs": [],
   "source": []
  },
  {
   "cell_type": "code",
   "execution_count": null,
   "id": "d7d731e0-d6fc-43ea-a641-c21eacc46280",
   "metadata": {},
   "outputs": [],
   "source": []
  },
  {
   "cell_type": "code",
   "execution_count": null,
   "id": "9891756a-4f89-4d6a-906a-588e28d80ed9",
   "metadata": {},
   "outputs": [],
   "source": []
  },
  {
   "cell_type": "code",
   "execution_count": null,
   "id": "460d6fc8-14a6-476a-941b-0ce661e84988",
   "metadata": {},
   "outputs": [],
   "source": []
  },
  {
   "cell_type": "code",
   "execution_count": null,
   "id": "e18617ea-cea7-49b7-96db-0ab16198cf98",
   "metadata": {},
   "outputs": [],
   "source": []
  },
  {
   "cell_type": "code",
   "execution_count": null,
   "id": "6ae35b70-a091-47e3-aecd-cf62e7f6cb21",
   "metadata": {},
   "outputs": [],
   "source": []
  },
  {
   "cell_type": "code",
   "execution_count": null,
   "id": "46eb9e18-1c26-4104-a86c-b4dbb457f234",
   "metadata": {},
   "outputs": [],
   "source": []
  },
  {
   "cell_type": "code",
   "execution_count": null,
   "id": "25f9f2bb-0d32-4378-8edf-b15a1b607ec1",
   "metadata": {},
   "outputs": [],
   "source": []
  },
  {
   "cell_type": "code",
   "execution_count": null,
   "id": "e1e42c5f-1681-4449-9a74-f72706d6f14c",
   "metadata": {},
   "outputs": [],
   "source": []
  },
  {
   "cell_type": "code",
   "execution_count": null,
   "id": "cea00e40-e640-405f-965b-c30f52dd063c",
   "metadata": {},
   "outputs": [],
   "source": []
  },
  {
   "cell_type": "code",
   "execution_count": null,
   "id": "ed6912a4-9b75-4a8e-8e90-757175785f8c",
   "metadata": {},
   "outputs": [],
   "source": []
  },
  {
   "cell_type": "code",
   "execution_count": null,
   "id": "7a9402f0-8d27-4153-96f4-5cf94a11a0b6",
   "metadata": {},
   "outputs": [],
   "source": []
  },
  {
   "cell_type": "code",
   "execution_count": null,
   "id": "b417b72e-bd91-4532-84e7-58bacd2a322a",
   "metadata": {},
   "outputs": [],
   "source": []
  },
  {
   "cell_type": "code",
   "execution_count": null,
   "id": "69f87168-0219-4f2e-aefe-5c65621deb8f",
   "metadata": {},
   "outputs": [],
   "source": []
  },
  {
   "cell_type": "code",
   "execution_count": null,
   "id": "c0fe3d15-b0cb-4bc7-863f-1c620f6e16c0",
   "metadata": {},
   "outputs": [],
   "source": []
  },
  {
   "cell_type": "code",
   "execution_count": null,
   "id": "2e694519-3011-4f2a-91d2-2f55cceca6c9",
   "metadata": {},
   "outputs": [],
   "source": []
  },
  {
   "cell_type": "code",
   "execution_count": null,
   "id": "53eafa55-1d1a-4272-9fb1-2a03d65c6b56",
   "metadata": {},
   "outputs": [],
   "source": []
  },
  {
   "cell_type": "code",
   "execution_count": null,
   "id": "4066492d-1847-46c1-ad71-1c9a1f3520ae",
   "metadata": {},
   "outputs": [],
   "source": []
  },
  {
   "cell_type": "code",
   "execution_count": null,
   "id": "8b61aa8b-004e-4227-a87a-93b3f8d4a498",
   "metadata": {},
   "outputs": [],
   "source": []
  },
  {
   "cell_type": "code",
   "execution_count": null,
   "id": "672153bc-2240-4e75-a985-2e336b2ca9e4",
   "metadata": {},
   "outputs": [],
   "source": []
  },
  {
   "cell_type": "code",
   "execution_count": null,
   "id": "aea363dd-5886-4f35-a748-193fada83dd8",
   "metadata": {},
   "outputs": [],
   "source": []
  },
  {
   "cell_type": "code",
   "execution_count": null,
   "id": "18933bfd-a509-49e6-bb47-77fc6f57768b",
   "metadata": {},
   "outputs": [],
   "source": []
  },
  {
   "cell_type": "code",
   "execution_count": null,
   "id": "0a1f1104-03a5-48ab-a581-2c3c72dbb118",
   "metadata": {},
   "outputs": [],
   "source": []
  }
 ],
 "metadata": {
  "kernelspec": {
   "display_name": "Python 3 (ipykernel)",
   "language": "python",
   "name": "python3"
  },
  "language_info": {
   "codemirror_mode": {
    "name": "ipython",
    "version": 3
   },
   "file_extension": ".py",
   "mimetype": "text/x-python",
   "name": "python",
   "nbconvert_exporter": "python",
   "pygments_lexer": "ipython3",
   "version": "3.9.5"
  }
 },
 "nbformat": 4,
 "nbformat_minor": 5
}
